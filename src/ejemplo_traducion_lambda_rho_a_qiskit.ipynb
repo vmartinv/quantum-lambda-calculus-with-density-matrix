{
 "cells": [
  {
   "cell_type": "markdown",
   "metadata": {},
   "source": [
    "# Funciones auxiliares\n",
    "\n",
    "Cada operación básica devuelve una lista de pares (probabilidad, termino)\n"
   ]
  },
  {
   "cell_type": "code",
   "execution_count": 2,
   "metadata": {},
   "outputs": [],
   "source": [
    "def apply_gate(gate, terms):\n",
    "    def op(circuit):\n",
    "        circuit = circuit.copy()\n",
    "        if gate=='CNOT':\n",
    "            circuit.cx(0, 1)\n",
    "        elif gate=='H':\n",
    "            circuit.h(0)\n",
    "        elif gate=='X':\n",
    "            circuit.x(0)\n",
    "        else:\n",
    "            raise Exception('Unknown gate')\n",
    "        return circuit\n",
    "    return [(t[0], op(t[1])) for t in terms]"
   ]
  },
  {
   "cell_type": "code",
   "execution_count": 3,
   "metadata": {},
   "outputs": [],
   "source": [
    "# agrega una medicion sobre todos los qubits del circuito\n",
    "def apply_measure(terms):\n",
    "    def op(circuit):\n",
    "        circuit = circuit.copy()\n",
    "        qubits = list(range(circuit.num_qubits))\n",
    "        circuit.measure(qubits, qubits)\n",
    "        return circuit\n",
    "    return [(t[0], op(t[1])) for t in terms]"
   ]
  },
  {
   "cell_type": "code",
   "execution_count": 4,
   "metadata": {},
   "outputs": [],
   "source": [
    "def empty_circuit(qubits):\n",
    "    return QuantumCircuit(qubits, qubits)"
   ]
  },
  {
   "cell_type": "code",
   "execution_count": 5,
   "metadata": {},
   "outputs": [],
   "source": [
    "# crea |010+> a partir de '010+'\n",
    "def make_pure(qubits):\n",
    "    qubits = str(qubits)\n",
    "    circuit = empty_circuit(len(qubits))\n",
    "    for i,qubit in enumerate(qubits):\n",
    "        if qubit=='0':\n",
    "            pass\n",
    "        elif qubit=='1':\n",
    "            circuit.x(i)\n",
    "        elif qubit=='+':\n",
    "            circuit.h(i)\n",
    "        elif qubit=='-':\n",
    "            circuit.x(i)\n",
    "            circuit.h(i)\n",
    "        else:\n",
    "            raise Exception('Unexpected qubit')\n",
    "    return [(1, circuit)]"
   ]
  },
  {
   "cell_type": "code",
   "execution_count": 6,
   "metadata": {},
   "outputs": [
    {
     "data": {
      "text/html": [
       "<pre style=\"word-wrap: normal;white-space: pre;background: #fff0;line-height: 1.1;font-family: &quot;Courier New&quot;,Courier,monospace\">               \n",
       "q_0: ──────────\n",
       "     ┌───┐     \n",
       "q_1: ┤ X ├─────\n",
       "     ├───┤     \n",
       "q_2: ┤ H ├─────\n",
       "     ├───┤┌───┐\n",
       "q_3: ┤ X ├┤ H ├\n",
       "     └───┘└───┘\n",
       "c: 4/══════════\n",
       "               </pre>"
      ],
      "text/plain": [
       "               \n",
       "q_0: ──────────\n",
       "     ┌───┐     \n",
       "q_1: ┤ X ├─────\n",
       "     ├───┤     \n",
       "q_2: ┤ H ├─────\n",
       "     ├───┤┌───┐\n",
       "q_3: ┤ X ├┤ H ├\n",
       "     └───┘└───┘\n",
       "c: 4/══════════\n",
       "               "
      ]
     },
     "execution_count": 6,
     "metadata": {},
     "output_type": "execute_result"
    }
   ],
   "source": [
    "example = make_pure('01+-')\n",
    "example[0][1].draw()"
   ]
  },
  {
   "cell_type": "code",
   "execution_count": 7,
   "metadata": {},
   "outputs": [],
   "source": [
    "def tensor_product(terms1, terms2):\n",
    "    def op(circuit1, circuit2):\n",
    "        aux = empty_circuit(circuit1.num_qubits+circuit2.num_qubits)\n",
    "        circuit2_qubits = [i+circuit1.num_qubits for i in range(circuit2.num_qubits)]\n",
    "        return aux.compose(circuit1).compose(circuit2, qubits=circuit2_qubits, clbits=circuit2_qubits)\n",
    "    return [(t1[0]*t2[0], op(t1[1], t2[1])) for t1 in terms1 for t2 in terms2]"
   ]
  },
  {
   "cell_type": "markdown",
   "metadata": {},
   "source": [
    "|01+-> $\\otimes$ |01+-> = |01+-01+->"
   ]
  },
  {
   "cell_type": "code",
   "execution_count": 8,
   "metadata": {},
   "outputs": [
    {
     "name": "stdout",
     "output_type": "stream",
     "text": [
      "[(1, <qiskit.circuit.quantumcircuit.QuantumCircuit object at 0x7fb1a0f92e80>)]\n"
     ]
    },
    {
     "data": {
      "text/html": [
       "<pre style=\"word-wrap: normal;white-space: pre;background: #fff0;line-height: 1.1;font-family: &quot;Courier New&quot;,Courier,monospace\">               \n",
       "q_0: ──────────\n",
       "     ┌───┐     \n",
       "q_1: ┤ X ├─────\n",
       "     ├───┤     \n",
       "q_2: ┤ H ├─────\n",
       "     ├───┤┌───┐\n",
       "q_3: ┤ X ├┤ H ├\n",
       "     └───┘└───┘\n",
       "q_4: ──────────\n",
       "     ┌───┐     \n",
       "q_5: ┤ X ├─────\n",
       "     ├───┤     \n",
       "q_6: ┤ H ├─────\n",
       "     ├───┤┌───┐\n",
       "q_7: ┤ X ├┤ H ├\n",
       "     └───┘└───┘\n",
       "c: 8/══════════\n",
       "               </pre>"
      ],
      "text/plain": [
       "               \n",
       "q_0: ──────────\n",
       "     ┌───┐     \n",
       "q_1: ┤ X ├─────\n",
       "     ├───┤     \n",
       "q_2: ┤ H ├─────\n",
       "     ├───┤┌───┐\n",
       "q_3: ┤ X ├┤ H ├\n",
       "     └───┘└───┘\n",
       "q_4: ──────────\n",
       "     ┌───┐     \n",
       "q_5: ┤ X ├─────\n",
       "     ├───┤     \n",
       "q_6: ┤ H ├─────\n",
       "     ├───┤┌───┐\n",
       "q_7: ┤ X ├┤ H ├\n",
       "     └───┘└───┘\n",
       "c: 8/══════════\n",
       "               "
      ]
     },
     "execution_count": 8,
     "metadata": {},
     "output_type": "execute_result"
    }
   ],
   "source": [
    "prod_example = tensor_product(example, example)\n",
    "print(prod_example)\n",
    "prod_example[0][1].draw()"
   ]
  },
  {
   "cell_type": "code",
   "execution_count": 9,
   "metadata": {},
   "outputs": [],
   "source": [
    "def measurement_results(terms, shots=1000):\n",
    "    shots_per_term = math.ceil(float(shots)/len(terms))\n",
    "    accum_probs = {}\n",
    "    for prob,circuit in terms:\n",
    "        job = execute(circuit, backend, shots=shots_per_term)\n",
    "        counts = job.result().get_counts(circuit)\n",
    "        accum_probs = {k: prob*counts.get(k, 0.0)/shots_per_term + accum_probs.get(k, 0.0)\n",
    "                        for k in set(counts) | set(accum_probs)}\n",
    "    return [(prob, res) for res,prob in accum_probs.items()] # returns [(1, '00101')]"
   ]
  },
  {
   "cell_type": "code",
   "execution_count": 10,
   "metadata": {},
   "outputs": [],
   "source": [
    "def letcase(condition_term, cases):\n",
    "    letresults = measurement_results(condition_term)\n",
    "    results = []\n",
    "    for prob,result in letresults:\n",
    "        y = make_pure(result)\n",
    "        results+=[(prob*prob2, term) for prob2,term in cases[result](y)]\n",
    "    return results"
   ]
  },
  {
   "cell_type": "markdown",
   "metadata": {},
   "source": [
    "# Programa para la expresión\n",
    "\n",
    "\n",
    "$\\text{prog} = \\lambda x. \\pi^2\\mathbf{CNOT} ((\\text{letcase } y = \\pi^1Hx \\text{ in }\\{\\text{|0>}, \\text{|1>}\\}) \\otimes \\text{|0>})$"
   ]
  },
  {
   "cell_type": "code",
   "execution_count": 11,
   "metadata": {},
   "outputs": [],
   "source": [
    "prog = (lambda x:\n",
    "    apply_measure(\n",
    "        apply_gate('CNOT',\n",
    "            tensor_product(\n",
    "                letcase(\n",
    "                    apply_measure(apply_gate('H', x)),\n",
    "                    {\n",
    "                        '0': lambda y: make_pure('0'),\n",
    "                        '1': lambda y: make_pure('1'),\n",
    "                    }\n",
    "                ),\n",
    "                make_pure('0')\n",
    "            )\n",
    "        )\n",
    "    )\n",
    ")"
   ]
  },
  {
   "cell_type": "markdown",
   "metadata": {},
   "source": [
    "$\\text{exp} = \\text{prog}\\;\\text{|1>}$"
   ]
  },
  {
   "cell_type": "code",
   "execution_count": 12,
   "metadata": {},
   "outputs": [],
   "source": [
    "exp = prog(make_pure('1'))"
   ]
  },
  {
   "cell_type": "code",
   "execution_count": 13,
   "metadata": {},
   "outputs": [
    {
     "data": {
      "text/plain": [
       "[(0.506, <qiskit.circuit.quantumcircuit.QuantumCircuit at 0x7fb1d13a98b0>),\n",
       " (0.494, <qiskit.circuit.quantumcircuit.QuantumCircuit at 0x7fb1d13a9880>)]"
      ]
     },
     "execution_count": 13,
     "metadata": {},
     "output_type": "execute_result"
    }
   ],
   "source": [
    "exp"
   ]
  },
  {
   "cell_type": "code",
   "execution_count": 14,
   "metadata": {},
   "outputs": [
    {
     "data": {
      "text/plain": [
       "[(0.506, '00'), (0.494, '11')]"
      ]
     },
     "execution_count": 14,
     "metadata": {},
     "output_type": "execute_result"
    }
   ],
   "source": [
    "measurement_results(exp)"
   ]
  },
  {
   "cell_type": "code",
   "execution_count": null,
   "metadata": {},
   "outputs": [],
   "source": []
  }
 ],
 "metadata": {
  "kernelspec": {
   "display_name": "Python 3 (ipykernel)",
   "language": "python",
   "name": "python3"
  },
  "language_info": {
   "codemirror_mode": {
    "name": "ipython",
    "version": 3
   },
   "file_extension": ".py",
   "mimetype": "text/x-python",
   "name": "python",
   "nbconvert_exporter": "python",
   "pygments_lexer": "ipython3",
   "version": "3.9.2"
  }
 },
 "nbformat": 4,
 "nbformat_minor": 4
}
